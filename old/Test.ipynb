{
 "cells": [
  {
   "cell_type": "markdown",
   "metadata": {},
   "source": [
    "# Prepare data"
   ]
  },
  {
   "cell_type": "code",
   "execution_count": 69,
   "metadata": {},
   "outputs": [],
   "source": [
    "f = open(\"data/Weightless_dataset_train_A.csv\", \"r\")\n",
    "first = True\n",
    "questions = []\n",
    "answers = []\n",
    "grades = []\n",
    "texts = []\n",
    "for line in f:\n",
    "    if first:\n",
    "        first = False\n",
    "        continue\n",
    "    s = line.split(\";\")\n",
    "    questions.append(s[10])\n",
    "    answers.append(s[11])\n",
    "    grades.append(s[14])\n",
    "    texts.append(s[15])\n",
    "    \n",
    "f = open(\"data/Weightless_dataset_train.csv\", \"r\", encoding=\"utf8\")\n",
    "first = True\n",
    "questions_all = []\n",
    "answers_all = []\n",
    "grades_all = []\n",
    "texts_all = []\n",
    "for line in f:\n",
    "    if first:\n",
    "        first = False\n",
    "        continue\n",
    "    s = line.split(\";\")\n",
    "    questions_all.append(s[10])\n",
    "    answers_all.append(s[11])\n",
    "    grades_all.append(s[14])\n",
    "    texts_all.append(s[15])"
   ]
  },
  {
   "cell_type": "markdown",
   "metadata": {},
   "source": [
    "# Try TF-IDF"
   ]
  },
  {
   "cell_type": "code",
   "execution_count": 9,
   "metadata": {},
   "outputs": [],
   "source": [
    "from sklearn.feature_extraction.text import TfidfVectorizer"
   ]
  },
  {
   "cell_type": "code",
   "execution_count": 76,
   "metadata": {},
   "outputs": [],
   "source": [
    "vect = TfidfVectorizer() # parameters for tokenization, stopwords can be passed\n",
    "tfidf = vect.fit_transform([texts[0]+answers[0]])\n",
    "\n",
    "#print(\"TF-IDF vectors (each column is a document):\\n{}\\nRows:\\n{}\".format(tfidf.T.A, vect.get_feature_names()))"
   ]
  },
  {
   "cell_type": "code",
   "execution_count": 77,
   "metadata": {},
   "outputs": [
    {
     "name": "stdout",
     "output_type": "stream",
     "text": [
      "Cosine similarity between the documents: \n",
      "[[1.]]\n"
     ]
    }
   ],
   "source": [
    "cosine = (tfidf * tfidf.T).A\n",
    "print(\"Cosine similarity between the documents: \\n{}\".format(cosine))"
   ]
  },
  {
   "cell_type": "code",
   "execution_count": 78,
   "metadata": {},
   "outputs": [
    {
     "name": "stdout",
     "output_type": "stream",
     "text": [
      "[0.5, 1.0, 0.0, 0.5, 1.0, 0.5, 0.5, 0.5, 0.5, 1.0, 1.0, 0.5, 0.5, 0.5, 0.5, 1.0, 1.0, 1.0, 1.0, 1.0, 0.5, 0.5, 1.0, 1.0, 0.5, 0.5, 0.5, 0.0, 0.5, 0.0, 0.5, 0.5, 1.0, 1.0, 0.5, 1.0, 1.0, 0.5, 1.0, 1.0, 1.0, 0.5, 1.0, 1.0, 0.5, 1.0, 0.5, 0.5, 0.5, 1.0, 0.5, 0.5, 1.0, 0.5, 1.0, 0.5, 0.5, 1.0, 1.0, 0.5, 1.0, 0.5, 0.5, 0.5, 1.0, 1.0, 1.0, 1.0, 1.0, 0.5, 0.5, 0.5, 0.5, 0.5, 0.0, 0.5, 1.0, 0.5, 1.0, 1.0, 0.0]\n"
     ]
    }
   ],
   "source": [
    "#USE FIRST QEUSTION ANSWERS FOR TEST\n",
    "test_answers = [answers_all[i] for i in range(len(questions_all)) if questions_all[i] == questions[0]]\n",
    "test_grades = [float(grades_all[i].replace(\",\", \".\")) for i in range(len(questions_all)) if questions_all[i] == questions[0]]\n",
    "#print(test_answers)\n",
    "print(test_grades)"
   ]
  },
  {
   "cell_type": "code",
   "execution_count": 79,
   "metadata": {},
   "outputs": [],
   "source": [
    "#weights = vect.transform([\"She was scared and exited.\"])\n",
    "weights = vect.transform(test_answers)\n",
    "\n",
    "\n",
    "# HINT: If the text is completely different from the corpus, a zero vector will be returned\n",
    "# and therefore also not printed.\n",
    "#print(\"New document:\\n{}\".format(weights.T.A)) "
   ]
  },
  {
   "cell_type": "code",
   "execution_count": 84,
   "metadata": {},
   "outputs": [
    {
     "name": "stdout",
     "output_type": "stream",
     "text": [
      "Real grade:  0.5 Predicted grade: 1\n",
      "Real grade:  1.0 Predicted grade: 1\n",
      "Real grade:  0.0 Predicted grade: 0.5\n",
      "Real grade:  0.5 Predicted grade: 0.5\n",
      "Real grade:  1.0 Predicted grade: 0.5\n",
      "Real grade:  0.5 Predicted grade: 1\n",
      "Real grade:  0.5 Predicted grade: 1\n",
      "Real grade:  0.5 Predicted grade: 1\n",
      "Real grade:  0.5 Predicted grade: 1\n",
      "Real grade:  1.0 Predicted grade: 1\n",
      "Real grade:  1.0 Predicted grade: 1\n",
      "Real grade:  0.5 Predicted grade: 1\n",
      "Real grade:  0.5 Predicted grade: 1\n",
      "Real grade:  0.5 Predicted grade: 0\n",
      "Real grade:  0.5 Predicted grade: 0.5\n",
      "Real grade:  1.0 Predicted grade: 1\n",
      "Real grade:  1.0 Predicted grade: 1\n",
      "Real grade:  1.0 Predicted grade: 1\n",
      "Real grade:  1.0 Predicted grade: 1\n",
      "Real grade:  1.0 Predicted grade: 1\n",
      "Real grade:  0.5 Predicted grade: 0.5\n",
      "Real grade:  0.5 Predicted grade: 1\n",
      "Real grade:  1.0 Predicted grade: 1\n",
      "Real grade:  1.0 Predicted grade: 1\n",
      "Real grade:  0.5 Predicted grade: 0\n",
      "Real grade:  0.5 Predicted grade: 0.5\n",
      "Real grade:  0.5 Predicted grade: 1\n",
      "Real grade:  0.0 Predicted grade: 1\n",
      "Real grade:  0.5 Predicted grade: 0.5\n",
      "Real grade:  0.0 Predicted grade: 0\n",
      "Real grade:  0.5 Predicted grade: 0\n",
      "Real grade:  0.5 Predicted grade: 0\n",
      "Real grade:  1.0 Predicted grade: 1\n",
      "Real grade:  1.0 Predicted grade: 1\n",
      "Real grade:  0.5 Predicted grade: 1\n",
      "Real grade:  1.0 Predicted grade: 1\n",
      "Real grade:  1.0 Predicted grade: 1\n",
      "Real grade:  0.5 Predicted grade: 1\n",
      "Real grade:  1.0 Predicted grade: 1\n",
      "Real grade:  1.0 Predicted grade: 1\n",
      "Real grade:  1.0 Predicted grade: 1\n",
      "Real grade:  0.5 Predicted grade: 0\n",
      "Real grade:  1.0 Predicted grade: 1\n",
      "Real grade:  1.0 Predicted grade: 1\n",
      "Real grade:  0.5 Predicted grade: 1\n",
      "Real grade:  1.0 Predicted grade: 1\n",
      "Real grade:  0.5 Predicted grade: 1\n",
      "Real grade:  0.5 Predicted grade: 1\n",
      "Real grade:  0.5 Predicted grade: 0\n",
      "Real grade:  1.0 Predicted grade: 0\n",
      "Real grade:  0.5 Predicted grade: 1\n",
      "Real grade:  0.5 Predicted grade: 0\n",
      "Real grade:  1.0 Predicted grade: 1\n",
      "Real grade:  0.5 Predicted grade: 1\n",
      "Real grade:  1.0 Predicted grade: 1\n",
      "Real grade:  0.5 Predicted grade: 1\n",
      "Real grade:  0.5 Predicted grade: 1\n",
      "Real grade:  1.0 Predicted grade: 1\n",
      "Real grade:  1.0 Predicted grade: 1\n",
      "Real grade:  0.5 Predicted grade: 0\n",
      "Real grade:  1.0 Predicted grade: 1\n",
      "Real grade:  0.5 Predicted grade: 0.5\n",
      "Real grade:  0.5 Predicted grade: 1\n",
      "Real grade:  0.5 Predicted grade: 0\n",
      "Real grade:  1.0 Predicted grade: 1\n",
      "Real grade:  1.0 Predicted grade: 1\n",
      "Real grade:  1.0 Predicted grade: 0\n",
      "Real grade:  1.0 Predicted grade: 1\n",
      "Real grade:  1.0 Predicted grade: 1\n",
      "Real grade:  0.5 Predicted grade: 0\n",
      "Real grade:  0.5 Predicted grade: 0\n",
      "Real grade:  0.5 Predicted grade: 0\n",
      "Real grade:  0.5 Predicted grade: 1\n",
      "Real grade:  0.5 Predicted grade: 1\n",
      "Real grade:  0.0 Predicted grade: 0\n",
      "Real grade:  0.5 Predicted grade: 0\n",
      "Real grade:  1.0 Predicted grade: 0.5\n",
      "Real grade:  0.5 Predicted grade: 1\n",
      "Real grade:  1.0 Predicted grade: 0.5\n",
      "Real grade:  1.0 Predicted grade: 0\n",
      "Real grade:  0.0 Predicted grade: 0\n",
      "Correct:  38 / 81\n"
     ]
    }
   ],
   "source": [
    "predict = tfidf * weights.T\n",
    "correct = 0\n",
    "for i in range(predict.shape[1]):\n",
    "    print(\"Real grade: \", test_grades[i], \"Predicted grade: \", end=\"\")\n",
    "    p = 0\n",
    "    if predict[0,i] > 0.3: #0.5\n",
    "        p = 1\n",
    "    elif predict[0,i] > 0.2: #0.3\n",
    "        p = 0.5\n",
    "    else:\n",
    "        p = 0\n",
    "    print(p)\n",
    "    if p == test_grades[i]:\n",
    "        correct += 1\n",
    "print(\"Correct: \", correct, \"/\", predict.shape[1])"
   ]
  },
  {
   "cell_type": "code",
   "execution_count": 82,
   "metadata": {},
   "outputs": [
    {
     "name": "stdout",
     "output_type": "stream",
     "text": [
      "Predicted score:\n",
      "1\n"
     ]
    }
   ],
   "source": [
    "predict = tfidf * weights.T\n",
    "print(\"Predicted score:\")\n",
    "if predict[0,0] > 0.5:\n",
    "    print(\"1\")\n",
    "elif predict[0,0] > 0.3:\n",
    "    print(\"0.5\")\n",
    "else:\n",
    "    print(\"0\")"
   ]
  },
  {
   "cell_type": "code",
   "execution_count": 62,
   "metadata": {},
   "outputs": [
    {
     "name": "stdout",
     "output_type": "stream",
     "text": [
      "  (0, 2)\t0.12461329745565876\n",
      "  (0, 61)\t0.10565911823685822\n",
      "  (0, 3)\t0.06061091967120327\n",
      "  (0, 21)\t0.13460240310547228\n",
      "  (0, 71)\t0.2322979857311218\n",
      "  (0, 59)\t0.2322979857311218\n",
      "  (0, 51)\t0.2322979857311218\n",
      "  (0, 48)\t0.2322979857311218\n",
      "  (0, 25)\t0.18506833617615012\n",
      "  (0, 64)\t0.18993192947327317\n",
      "  (0, 44)\t0.4302961144069908\n",
      "  (0, 27)\t0.17783036229835056\n",
      "  (0, 8)\t0.4302961144069908\n",
      "  (0, 7)\t0.3318367355498525\n",
      "  (0, 5)\t0.20012687066278878\n",
      "  (0, 0)\t0.3018146599008825\n",
      "  (0, 79)\t0.2322979857311218\n",
      "  (0, 78)\t0.13713762420853085\n",
      "  (0, 76)\t0.14474785835482704\n",
      "  (0, 68)\t0.3599455927424692\n",
      "  (0, 65)\t0.42372112154236896\n",
      "  (0, 58)\t0.30918864024920123\n",
      "  (0, 54)\t0.42372112154236896\n",
      "  (0, 39)\t0.20113550221127063\n",
      "  (0, 33)\t0.30572433890142914\n",
      "  :\t:\n",
      "  (11, 57)\t0.157645438810767\n",
      "  (11, 56)\t0.14944366992183955\n",
      "  (11, 55)\t0.1427229286188772\n",
      "  (11, 52)\t0.09142005991042078\n",
      "  (11, 50)\t0.34349203203698914\n",
      "  (11, 47)\t0.24509030037282692\n",
      "  (11, 45)\t0.05785353376544291\n",
      "  (11, 43)\t0.27551002482087844\n",
      "  (11, 40)\t0.11523033145312846\n",
      "  (11, 38)\t0.26333203675290995\n",
      "  (11, 36)\t0.16547132783302482\n",
      "  (11, 35)\t0.06675769174055612\n",
      "  (11, 34)\t0.1198415371854443\n",
      "  (11, 33)\t0.1247932925882766\n",
      "  (11, 26)\t0.30256710031734635\n",
      "  (11, 21)\t0.16368139190345868\n",
      "  (11, 19)\t0.25915724786539235\n",
      "  (11, 18)\t0.0809487091573644\n",
      "  (11, 17)\t0.12401615139259323\n",
      "  (11, 16)\t0.0875016261602313\n",
      "  (11, 15)\t0.0875016261602313\n",
      "  (11, 11)\t0.26768395814547374\n",
      "  (11, 10)\t0.09142005991042078\n",
      "  (11, 1)\t0.09752893782275016\n",
      "  (11, 0)\t0.11935996371826416\n"
     ]
    }
   ],
   "source": [
    "print(tfidf * weights.T)"
   ]
  },
  {
   "cell_type": "code",
   "execution_count": null,
   "metadata": {},
   "outputs": [],
   "source": []
  }
 ],
 "metadata": {
  "kernelspec": {
   "display_name": "Python 3",
   "language": "python",
   "name": "python3"
  },
  "language_info": {
   "codemirror_mode": {
    "name": "ipython",
    "version": 3
   },
   "file_extension": ".py",
   "mimetype": "text/x-python",
   "name": "python",
   "nbconvert_exporter": "python",
   "pygments_lexer": "ipython3",
   "version": "3.6.7"
  }
 },
 "nbformat": 4,
 "nbformat_minor": 2
}
