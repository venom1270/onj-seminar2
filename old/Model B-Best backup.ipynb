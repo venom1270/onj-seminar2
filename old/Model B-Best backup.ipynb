{
 "cells": [
  {
   "cell_type": "markdown",
   "metadata": {},
   "source": [
    "# Model A ALL questions - CoreNLP + TFIDF"
   ]
  },
  {
   "cell_type": "markdown",
   "metadata": {},
   "source": [
    "## Prepare all data"
   ]
  },
  {
   "cell_type": "code",
   "execution_count": 4,
   "metadata": {},
   "outputs": [
    {
     "name": "stdout",
     "output_type": "stream",
     "text": [
      "12\n",
      "81\n",
      "81\n",
      "70\n",
      "76\n",
      "67\n",
      "69\n",
      "71\n",
      "69\n",
      "62\n",
      "65\n",
      "68\n",
      "71\n"
     ]
    }
   ],
   "source": [
    "f = open(\"data/dataset - fixed.csv\", \"r\", encoding=\"utf-8\")\n",
    "\n",
    "first = True\n",
    "questions_all = []\n",
    "answers_all = []\n",
    "grades_all = []\n",
    "texts_all = []\n",
    "for line in f:\n",
    "    if first:\n",
    "        first = False\n",
    "        continue\n",
    "    s = line.split(\";\")\n",
    "    questions_all.append(s[10])\n",
    "    answers_all.append(s[11])\n",
    "    grades_all.append(s[14])\n",
    "    texts_all.append(s[15])\n",
    "    if s[15] == '1':\n",
    "        print(line)\n",
    "#test_answers = [answers_all[i] for i in range(len(questions_all)) if questions_all[i] == questions[0]]\n",
    "#test_grades = [float(grades_all[i].replace(\",\", \".\")) for i in range(len(questions_all)) if questions_all[i] == questions[0]]\n",
    "\n",
    "## DATA[question_number] -> tuples of (queston, grade, answer, text)\n",
    "old = questions_all[0]\n",
    "DATA = []\n",
    "data_tmp = []\n",
    "for i in range(len(questions_all)):\n",
    "    if questions_all[i] == old:\n",
    "        triple = (questions_all[i], grades_all[i], answers_all[i], texts_all[i])\n",
    "        data_tmp.append(triple)\n",
    "    else:\n",
    "        old = questions_all[i]\n",
    "        DATA.append(data_tmp)\n",
    "        data_tmp = []\n",
    "        data_tmp.append((questions_all[i], grades_all[i], answers_all[i], texts_all[i]))\n",
    "DATA.append(data_tmp)\n",
    "        \n",
    "print(len(DATA))\n",
    "for i in DATA:\n",
    "    print(len(i))"
   ]
  },
  {
   "cell_type": "markdown",
   "metadata": {},
   "source": [
    "## Split train and test data"
   ]
  },
  {
   "cell_type": "code",
   "execution_count": 30,
   "metadata": {},
   "outputs": [],
   "source": [
    "ratio = 0.8 #0.8 train data, 0.2 test data FOR EACH QUESTION\n",
    "\n",
    "DATA_train = []\n",
    "DATA_test = []\n",
    "\n",
    "for i in DATA:\n",
    "    split = int(len(i) * ratio)\n",
    "    DATA_train.append([good_ans for good_ans in i[:split] ])#if good_ans[1] == '1'])\n",
    "    DATA_test.append(i[split:])\n",
    "\n",
    "#print(len(DATA_train[3]))\n",
    "\n",
    "    \n",
    "#Test and verification\n",
    "#for i in range(len(DATA)):\n",
    "#    print(len(DATA[i]))\n",
    "#    print(len(DATA_train[i]) + len(DATA_test[i]))"
   ]
  },
  {
   "cell_type": "markdown",
   "metadata": {},
   "source": [
    "## TF-IDF"
   ]
  },
  {
   "cell_type": "markdown",
   "metadata": {},
   "source": [
    "## Preparation"
   ]
  },
  {
   "cell_type": "code",
   "execution_count": 10,
   "metadata": {},
   "outputs": [],
   "source": [
    "import requests\n",
    "url = 'http://localhost:9000/?properties={\"annotators\": \"openie,coref\", \"outputFormat\": \"json\", \"openie.resolve_coref\": \"true\"}'\n",
    "data = \"Sarah jumped over the table. She got hurt.\"\n",
    "response = requests.post(url, data=data)"
   ]
  },
  {
   "cell_type": "code",
   "execution_count": 11,
   "metadata": {},
   "outputs": [
    {
     "name": "stdout",
     "output_type": "stream",
     "text": [
      "Subject: Sarah  | Relation: jumped over  | Object: table\n",
      "Subject: Sarah  | Relation: got  | Object: hurt\n"
     ]
    }
   ],
   "source": [
    "for s in response.json()[\"sentences\"]:\n",
    "    for i in s[\"openie\"]:\n",
    "        print(\"Subject:\", i[\"subject\"], \" | Relation:\", i[\"relation\"], \" | Object:\", i[\"object\"])"
   ]
  },
  {
   "cell_type": "code",
   "execution_count": 101,
   "metadata": {},
   "outputs": [],
   "source": [
    "def openie_extract(text, resolve_coref=True):\n",
    "    import requests\n",
    "    if resolve_coref:\n",
    "        url = 'http://localhost:9000/?properties={\"annotators\": \"tokenize,ssplit,pos,lemma,openie,coref\", \"outputFormat\": \"json\", \"openie.resolve_coref\": \"true\", \"openie.triple.strict\": \"false\", \"openie.triple.all_nominals\": \"false\"}'\n",
    "    else:\n",
    "        url = 'http://localhost:9000/?properties={\"annotators\": \"tokenize,ssplit,pos,lemma,openie,coref\", \"outputFormat\": \"json\", \"openie.resolve_coref\": \"false\", \"openie.triple.strict\": \"false\", \"openie.triple.all_nominals\": \"false\"}'\n",
    "    data = text\n",
    "    response = requests.post(url, data=data)\n",
    "    response.encoding = \"utf-8\"\n",
    "    triples = []\n",
    "    for s in response.json()[\"sentences\"]:\n",
    "        for i in s[\"openie\"]:\n",
    "            #print(\"Subject:\", i[\"subject\"], \" | Relation:\", i[\"relation\"], \" | Object:\", i[\"object\"])\n",
    "            #triples.append((lemmatize([i[\"subject\"]])[0], lemmatize([i[\"relation\"]])[0], lemmatize([i[\"object\"]])[0]))\n",
    "            triples.append((i[\"subject\"], i[\"relation\"], i[\"object\"]))\n",
    "    return triples"
   ]
  },
  {
   "cell_type": "code",
   "execution_count": 102,
   "metadata": {
    "scrolled": false
   },
   "outputs": [],
   "source": [
    "## DATA[question_number] -> tuples of (queston, grade, answer, text)\n",
    "\n",
    "BASE_TRIPLES = []\n",
    "for i in DATA_train:\n",
    "    data = i[0][3] + \" \"#answers[i] + \" \" + texts[i]\n",
    "    for j in i: #loop through all tuples\n",
    "        data += j[2] + \" \"\n",
    "    BASE_TRIPLES.append(openie_extract(data.encode(\"utf8\")))"
   ]
  },
  {
   "cell_type": "code",
   "execution_count": 103,
   "metadata": {},
   "outputs": [
    {
     "name": "stdout",
     "output_type": "stream",
     "text": [
      "2 28 27\n"
     ]
    }
   ],
   "source": [
    "import string\n",
    "import nltk\n",
    "from nltk.stem import WordNetLemmatizer\n",
    "def getTokens(text):\n",
    "    lowered = text.lower()\n",
    "    table = text.maketrans({key: None for key in string.punctuation})\n",
    "    lowered = lowered.translate(table)\n",
    "    return nltk.word_tokenize(lowered)\n",
    "\n",
    "def lemmatize(tokens):\n",
    "    lemmatizer = WordNetLemmatizer()\n",
    "    lemmas = [lemmatizer.lemmatize(token) for token in tokens]\n",
    "    return lemmas\n",
    "\n",
    "def preprocess(text):\n",
    "    tokens = getTokens(text)\n",
    "    lemmatizer = WordNetLemmatizer()\n",
    "    lemmas = [lemmatizer.lemmatize(token) for token in tokens]\n",
    "    return \" \".join(lemmas)\n",
    "    #pos_tag = nltk.pos_tag(lemmas)\n",
    "    #print(pos_tag)\n",
    "    #return \" \".join([pt[0] for pt in pos_tag if pt[1] == \"NN\" or pt[1][0:2] == \"VB\" or pt[1] == \"JJ\"])\n",
    "\n",
    "\n",
    "#pre_answers = [preprocess(ans) for ans in answers]\n",
    "#pre_texts = [preprocess(tex) for tex in texts]\n",
    "\n",
    "#pre_answers[question_number] -> array of preprocessed answers\n",
    "#pre_text[question_number] -> preprocessed text for that question\n",
    "\n",
    "## DATA[question_number] -> tuples of (queston, grade, answer, text)\n",
    "\n",
    "pre_answers_00 = []\n",
    "pre_answers_05 = []\n",
    "pre_answers_10 = []\n",
    "pre_texts = []\n",
    "for i in DATA_train:\n",
    "    pre_answers_00.append([preprocess(ans[2]) for ans in i if ans[1] == '0' and len(ans[2].split(\" \")) > 3])\n",
    "    pre_answers_05.append([preprocess(ans[2]) for ans in i if ans[1] == '0.5' and len(ans[2].split(\" \")) > 2])\n",
    "    pre_answers_10.append([preprocess(ans[2]) for ans in i if ans[1] == '1' and len(ans[2].split(\" \")) > 0])\n",
    "    pre_texts.append(preprocess(i[0][3]))\n",
    "print(len(pre_answers_00[0]), len(pre_answers_05[0]), len(pre_answers_10[0]))"
   ]
  },
  {
   "cell_type": "markdown",
   "metadata": {},
   "source": [
    "DATA -> ALL data from csv, DATA[question_number] -> triples of (question, grade, answer, text)\n",
    "\n",
    "answers -> answers for model A (one for each question)\n",
    "\n",
    "texts -> texts for model A (one for each question)"
   ]
  },
  {
   "cell_type": "markdown",
   "metadata": {},
   "source": [
    "## Predicting"
   ]
  },
  {
   "cell_type": "code",
   "execution_count": 114,
   "metadata": {},
   "outputs": [
    {
     "name": "stdout",
     "output_type": "stream",
     "text": [
      "12\n",
      "12\n",
      "12\n",
      "12\n",
      "12\n",
      "12\n",
      "12\n",
      "12\n",
      "Correct:  115 / 176\n"
     ]
    }
   ],
   "source": [
    "#weights = vect.transform(test_answers)\n",
    "import numpy as np\n",
    "from sklearn.feature_extraction.text import TfidfVectorizer\n",
    "\n",
    "correct = 0\n",
    "TP = 0\n",
    "TN = 0\n",
    "FP = 0\n",
    "FN = 0\n",
    "\n",
    "all_count = 0\n",
    "\n",
    "#for F1 scoring\n",
    "true_grades = []\n",
    "predicted_grades = []\n",
    "\n",
    "## DATA[question_number] -> triples of (queston, grade, answer, text)\n",
    "for d in range(len(DATA_test)):\n",
    "    test_answers = [a[2] for a in DATA_test[d]]\n",
    "    #if d == 0:\n",
    "    #    test_answers.append(\"blabla\")\n",
    "    test_grades = [float(a[1]) for a in DATA_test[d]]\n",
    "    \n",
    "    true_grades += test_grades\n",
    "\n",
    "    vect = TfidfVectorizer() # parameters for tokenization, stopwords can be passed\n",
    "    #tfidf = vect.fit_transform([pre_answers[d], pre_texts[d]])\n",
    "    if len(pre_answers_00[d]) != 0:\n",
    "        tfidf_00 = vect.fit_transform(pre_answers_00[d])\n",
    "        weights_00 = vect.transform([preprocess(ta) for ta in test_answers])\n",
    "        predict_00 = tfidf_00 * weights_00.T\n",
    "    else:\n",
    "        predict_00 = np.zeros((len(test_answers),len(test_answers)))\n",
    "    \n",
    "    if len(pre_answers_05[d]) != 0:\n",
    "        print(len(pre_answers_05))\n",
    "        tfidf_05 = vect.fit_transform(pre_answers_05[d])\n",
    "        weights_05 = vect.transform([preprocess(ta) for ta in test_answers])\n",
    "        predict_05 = tfidf_05 * weights_05.T\n",
    "    else:\n",
    "        predict_05 = np.zeros((len(test_answers),len(test_answers)))\n",
    "    \n",
    "    tfidf_10 = vect.fit_transform([pre_texts[d]] + pre_answers_10[d])\n",
    "    weights_10 = vect.transform([preprocess(ta) for ta in test_answers])\n",
    "    predict_10 = tfidf_10 * weights_10.T\n",
    "\n",
    "    #Shiranna feels excited and scared as the shuttle is taking off and it even affects her heart-rate and her temperature.\n",
    "    #test_answers = [\"Excited, scared. It affected her heart rate and temp\"]\n",
    "    \n",
    "    \n",
    "    for i in range(len(test_answers)):\n",
    "        all_count += 1 # only for statistics at the end\n",
    "        \n",
    "        test_answer = test_answers[i]\n",
    "        triples = openie_extract(test_answer.encode(\"utf8\"))\n",
    "\n",
    "        p = 0\n",
    "        p_tfidf = 0\n",
    "        p_triples = 0\n",
    "\n",
    "        #if len(triples) < 1:\n",
    "        #prediction = max(predict[0,i], predict[1,i])\n",
    "        #prediction = max(predict[:,i])\n",
    "        #prediction = np.argmax([max(predict_05[:,i]), max(predict_10[:,i])])\n",
    "        prediction = max(predict_10[:,i])\n",
    "        \n",
    "        #print(\"00: \", max(predict_00[:,i]), \"05: \", max(predict_05[:,i]), \"10: \", max(predict_10[:,i]))\n",
    "        #print(\"---\")\n",
    "        \n",
    "        '''\n",
    "        if prediction == 0:\n",
    "            p_tfidf = 0.5\n",
    "        elif prediction == 1:\n",
    "            p_tfidf = 1\n",
    "        '''\n",
    "        \n",
    "        \n",
    "        if prediction > 0.4: #0.5\n",
    "            p_tfidf = 1\n",
    "        elif prediction > 0.2: #0.3\n",
    "            p_tfidf = 0.5\n",
    "        else:\n",
    "            p_tfidf = 0\n",
    "        \n",
    "        #else:\n",
    "        for bt in BASE_TRIPLES[d]:\n",
    "            for t in triples:\n",
    "                #if t[0] == bt[0] or t[1] == bt[1] or t[2] == bt[2]:\n",
    "                if (t[0] == bt[0] and t[1] == bt[1]) or (t[0] == bt[0] and t[2] == bt[2]) or (t[1] == bt[1] and t[2] == bt[2]):\n",
    "                    #print(t)\n",
    "                    #print(bt)\n",
    "                    p_triples += 1\n",
    "        #p_triples = p_triples*4 / max(len(triples), 1)\n",
    "        prediction = 0\n",
    "        if p_triples >= 1:\n",
    "            p_triples = 1\n",
    "        elif p_triples >= 0.5:\n",
    "            p_triples = 0.5\n",
    "        else:\n",
    "            p_triples = 0\n",
    "\n",
    "        p = (p_triples + p_tfidf*2) / 3\n",
    "        if p > 0 and p < 1 and p != 0.5:\n",
    "            p = 0.5\n",
    "            \n",
    "        p = p_tfidf\n",
    "        if p_triples == 0:\n",
    "            p -= 0.5\n",
    "            p = max(p, 0)\n",
    "        else:\n",
    "            p += 0.5\n",
    "            p = min(p,1)\n",
    "            \n",
    "        #p = p_tfidf\n",
    "        \n",
    "        #if d == 0 and i == len(test_answers)-1:\n",
    "        #    print(p)\n",
    "        \n",
    "        predicted_grades.append(p)\n",
    "        #print(\"Predicted:\", p, \" Real:\", test_grades[i], \" --- \", len(triples))\n",
    "        \n",
    "        if p == test_grades[i]:\n",
    "            correct += 1\n",
    "            if p == 1 or p == 0.5:\n",
    "                TP += 1\n",
    "            else:\n",
    "                TN += 1\n",
    "        else:\n",
    "            #print(len(triples))\n",
    "            if p == 1 or p == 0.5:\n",
    "                FP += 1\n",
    "            else:\n",
    "                FN += 1\n",
    "    \n",
    "print(\"Correct: \", correct, \"/\", all_count)"
   ]
  },
  {
   "cell_type": "markdown",
   "metadata": {},
   "source": [
    "[texts[0] + answers[0]] 0.3 0.2 -> 38/81 correct\n",
    "\n",
    "[texts[0], answers[0]]  0.3 0.2 -> 42/81 correct \n",
    "\n",
    "CoreNLP openie+coref /w TFIDF -> 32/81 correct\n",
    "\n",
    "CoreNLP openie /w TFIDF ->  40/81 correct\n",
    "\n",
    "CoreNLP openie relative scoring /w TFIDF -> 36/81 correct\n",
    "\n",
    "CoreNLP openie+coref relative scoring /w TFIDF -> 33/81 correct\n",
    "\n",
    "CoreNLP (not strict) openie+coref relative scoring AND TFIDF | AVG -> 43/81 correct\n",
    "\n",
    "CoreNLP openie+coref relative scoring AND TFIDF | AVG -> 40/81 correct\n",
    "\n",
    "CoreNLP openie+coref(with and without) relative scoring AND TFIDF | AVG -> 41/81 correct"
   ]
  },
  {
   "cell_type": "markdown",
   "metadata": {},
   "source": [
    "## F1 Scoring"
   ]
  },
  {
   "cell_type": "code",
   "execution_count": 115,
   "metadata": {},
   "outputs": [
    {
     "name": "stdout",
     "output_type": "stream",
     "text": [
      "Vsa vprašanja (mikro, makro):  0.6534090909090909 0.48951909192873044\n"
     ]
    }
   ],
   "source": [
    "from sklearn.metrics import f1_score\n",
    "tg = [i*2 for i in true_grades]\n",
    "pg = [i*2 for i in predicted_grades]\n",
    "#print(tg)\n",
    "#print(pg)\n",
    "print(\"Vsa vprašanja (mikro, makro): \", f1_score(tg,pg,average=\"micro\"), f1_score(tg,pg,average=\"macro\"))"
   ]
  },
  {
   "cell_type": "markdown",
   "metadata": {},
   "source": [
    "### F1 score: openIE + coref relative scoring averaged with TFIDF\n",
    "Correct:  114 / 176\n",
    "\n",
    "Vsa vprašanja (mikro, makro):  0.6477272727272727 0.41571002719682665\n",
    "\n",
    "### F1 score: openIE + coref relative scoring WITHOUT TFIDF\n",
    "Correct:  116 / 176\n",
    "\n",
    "Vsa vprašanja (mikro, makro):  0.6590909090909091 0.35599276345545\n",
    "\n",
    "### F1 score: only TFIDF\n",
    "Correct:  129 / 176\n",
    "\n",
    "Vsa vprašanja (mikro, makro):  0.7329545454545454 0.4020678828560602"
   ]
  }
 ],
 "metadata": {
  "kernelspec": {
   "display_name": "Python 3",
   "language": "python",
   "name": "python3"
  },
  "language_info": {
   "codemirror_mode": {
    "name": "ipython",
    "version": 3
   },
   "file_extension": ".py",
   "mimetype": "text/x-python",
   "name": "python",
   "nbconvert_exporter": "python",
   "pygments_lexer": "ipython3",
   "version": "3.6.8"
  }
 },
 "nbformat": 4,
 "nbformat_minor": 2
}
