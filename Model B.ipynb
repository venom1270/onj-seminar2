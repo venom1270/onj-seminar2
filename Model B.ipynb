{
 "cells": [
  {
   "cell_type": "markdown",
   "metadata": {},
   "source": [
    "# Model B - CoreNLP + TFIDF"
   ]
  },
  {
   "cell_type": "markdown",
   "metadata": {},
   "source": [
    "## Prepare train data"
   ]
  },
  {
   "cell_type": "code",
   "execution_count": 1,
   "metadata": {},
   "outputs": [],
   "source": [
    "#java -mx3g -cp \"C:\\Users\\zigsi\\Desktop\\CoreNLP\\stanford-corenlp-full-2018-10-05/*\" edu.stanford.nlp.naturalli.OpenIE text.txt"
   ]
  },
  {
   "cell_type": "code",
   "execution_count": 2,
   "metadata": {},
   "outputs": [
    {
     "name": "stdout",
     "output_type": "stream",
     "text": [
      "Just the thought of leaving Earth both thrilled and terrified her. Her heart stopped as the trailer-sized shuttle moved forward on the track without making a sound. She took in a deep breath. she said, trying to be brave\n",
      "\n"
     ]
    }
   ],
   "source": [
    "f = open(\"data/Weightless_dataset_train_A.csv\", \"r\", encoding=\"utf-8\")\n",
    "first = True\n",
    "questions = []\n",
    "answers = []\n",
    "grades = []\n",
    "texts = []\n",
    "for line in f:\n",
    "    if first:\n",
    "        first = False\n",
    "        continue\n",
    "    s = line.split(\";\")\n",
    "    questions.append(s[10])\n",
    "    answers.append(s[11])\n",
    "    grades.append(s[14])\n",
    "    texts.append(s[15])\n",
    "    \n",
    "print(texts[0])"
   ]
  },
  {
   "cell_type": "markdown",
   "metadata": {},
   "source": [
    "## Prepare test data"
   ]
  },
  {
   "cell_type": "code",
   "execution_count": 13,
   "metadata": {},
   "outputs": [
    {
     "name": "stdout",
     "output_type": "stream",
     "text": [
      "Just the thought of leaving Earth both thrilled and terrified her… Her heart stopped as the trailer-sized shuttle moved forward on the track without making a sound. She took in a deep breath. …she said, trying to be brave ….\n",
      "\n",
      "Using its accumulated momentum, the space shuttle bulleted off the track and into Earth's orbit, leaving her home on Earth far behind.After the g-force died down, Shiranna opened her eyes and looked outside her window. She thought she was going to be able to see the entire planet from the space shuttle, but she was still too close to Earth. Though seatbelts strapped her down to her chair, her body wanted to float.\n",
      "\n",
      "1\n",
      "\"She placed her left hand on her son's shoulder. \"\"My name is Olivia Mosby, and this is my son--Adam. Since you both look around the same age, I thought you would like to meet each other.\"\" Shiranna looked at Adam. His cheeks were flushed.\"\n",
      "\n",
      "\"\"\"Ladies and gentlemen, this is your captain speaking. There is something I would like to discuss with all of the adults inside the cockpit. We have run into an unusual problem.\"\"Shiranna watched Mrs. Mosby glance at the cockpit and then back at Adam. Mrs. Mosby looked confused. After a brief pause, she headed toward the cockpit and became the last adult to enter inside its quarters. The cockpit's door slid shut. Shiranna's eyes narrowed. She glanced at Adam.\"\"Well, come on,\"\" she said. Adam looked even more confused than his mother.\"\"Come on and do what?\"\" he asked. Shiranna grabbed one of the handrails and started making her way to the cockpit's door. …Shiranna said, \"\"The captain said he wanted to speak with all of us inside the cockpit. Hurry or we might miss something.\"\" Adam was left floating behind.He said, \"\"The captain said he wanted to speak with all of the adults inside the cockpit.\"\" Shiranna stopped and turned around. She tried to make her face look as stern and adult-like as possible.\"\"There are nine people on this shuttle and that's including us. The captain needs all the brain power he can get. So, are you coming or not?\"\"\"\"I guess...\"\" Adam said.When they arrived at the door, Shiranna tried to open it, but it was sealed shut.\"\n",
      "\n",
      "Shiranna had become rigid.  Her entire body was frozen.  It was as if she was already dead and her limbs had been paralyzed by rigor mortis.  All she could think about was her father and how she might share his same fate.\n",
      "\n",
      "\"She had read about it in one of her dad's old school books. The books had been saved by her mom. They were one of the many ways she remembered him by.\"\"Your dad was a brilliant man,\"\" her mom once told her. \"\"He was one of the hundred--out of the millions of applicants on all of Earth--who was accepted into the ISS's space engineering program.\"\"The texts had been hard to read. Most of the time, Shiranna had found them outright confusing, but she had kept at it. It was one of the few ways she had felt like she could connect with her father. And now that relationship, which had never been anything more than a dream, was going to save her. It had to. She hugged Mrs. Mosby, and then she turned towards the captain.\"\"We need to turn this ship into a giant solenoid,\"\" Shiranna said. All of the adults looked at her like she was mad. Most of them had no idea what a solenoid was or if it was even a real word.\"\"What is she talking about,\"\" Mrs. Mosby asked. The captain pinched his chin between his thumb and forefinger, ignoring Mrs. Mosby's question.Shiranna watched as the adults' attitudes towards her changed into a slight form of admiration as they realized the captain was contemplating what she had said.\"\"No, it's impossible. Even if we could reprogram the matter in the circuit panels and turn this ship into an amplified radio wave transmitter, it would take a genius to return the circuit panels back to normal. We would become sitting ducks, drifting helplessly out into outer space. By the time the space station received our signal and sent a rescue party, we would be nowhere in sight.\"\"\"\"We don't need a genius,\"\" Shiranna said. \"\"We just need Cheeky.\"\" The captain furrowed his brow as Shiranna grabbed Cheeky and held him out in front of her.\"\"What's a Cheeky?\"\" the captain asked, staring at the little owl-featured robot.\"\"He's a personalized artificially intelligent robot,\"\" Shiranna said. Her heart filled with pride.\"\n",
      "\n",
      "\"Shiranna could barely make sense of what the captain was asking and only because turning the shuttle into an amplified radio wave transmitter was her idea.…\"\"We need to turn this ship into a giant solenoid,\"\" Shiranna said. All of the adults looked at her like she was mad. Most of them had no idea what a solenoid was or if it was even a real word.…Shiranna watched as the adults' attitudes towards her changed into a slight form of admiration as they realized the captain was contemplating what she had said.\"\"No, it's impossible. Even if we could reprogram the matter in the circuit panels and turn this ship into an amplified radio wave transmitter, it would take a genius to return the circuit panels back to normal. We would become sitting ducks, drifting helplessly out into outer space. By the time the space station received our signal and sent a rescue party, we would be nowhere in sight.\"\"\"\"We don't need a genius,\"\" Shiranna said. \"\"We just need Cheeky.\"\" The captain furrowed his brow as Shiranna grabbed Cheeky and held him out in front of her.\"\"What's a Cheeky?\"\" the captain asked, staring at the little owl-featured robot.\"\"He's a personalized artificially intelligent robot,\"\" Shiranna said. Her heart filled with pride. The captain poked Cheeky in his belly. Shiranna thought she saw a spark of wonder in his eyes.…Shiranna could barely make sense of what the captain was asking and only because turning the shuttle into an amplified radio wave transmitter was her idea.….\"\"If this works, kid, you're going to be a hero,\"\" he said.…The Intersolar Space Station was coming into view. It had been nine hours since the rescue team had found their shuttle. Every adult was trying to shake her hand.\"\n",
      "\n",
      "\"As you already know, on the Earth there are four seasons,\"\" Mr. Mosby said. \"\"What you might not know is the Earth's seasons are caused by a twenty-three-and-a-half degree tilt of the Earth's axis which, at certain times during the year, causes one hemisphere of the Earth to receive more direct sunlight than the other. You see, as the Earth revolves around the Sun, sometimes the Northern Hemisphere will tilt directly towards the Sun and sometimes the Southern Hemisphere will tilt directly towards the sun. Whichever hemisphere is tilting directly towards the Sun experiences a summer season while the other hemisphere experiences a winter season.\"\"\"\"You said at certain times,\"\" Adam said. \"\"Does that mean there are occasions when neither hemisphere is tilted towards the Sun?\"\" Mr. Mosby patted his son on the back.\"\"That's my boy,\"\" he said. \"\"Yes! You're right. When neither hemisphere is tilted directly towards the sun, both hemispheres receive about the same amount of sunlight and experience either an autumn or a spring season.\"\"\"\n",
      "\n",
      "The zoo was kind of fun with the monkeys. A rather nice, though ancient, zookeeper, whose nameplate on her zoo uniform said Mrs. Smith, was using a long net to try to remove a jackknife from the monkey enclosure. Every time she got close to the knife, the monkeys grabbed the end of the net and tried to pull it into the enclosure, triggering a tug-a-war.\n",
      "\n",
      "\"As if answering him, water started spraying out of the circular rubber tubes. Adam put his hands over his head. His hair and clothes were getting soaked. Shiranna stared at the puddles of water forming inside the tunnels. They were turning black, washing the grease off the walls. The ventilation system was cleaning itself. Shiranna watched the puddles absorb into one another. They were becoming larger. She looked again at the tubing along the tunnel's walls. She touched it.\"\"It's water proof,\"\" she said. A terrifying revelation came to her.\"\"Adam!\"\" she screamed, \"\"we have to get out of here! NOW!\"\"Water started pouring down from the ceiling. Some of the grease splattered, getting into Adam's eyes.\"\"I can't,\"\" he said. \"\"I can't see!\"\"\"\"Grab hold of your coat on top of Cheeky!\"\" Shiranna said. \"\"Cheeky, get us out of here or we're going to drown!\"\"\"\n",
      "\n",
      "He was so close to his parents. Sometimes Shiranna felt like it held him back, but most of the time it made her jealous. His family was so perfect, and his parents were always there for him. She, on the other hand, had grown up without a father, half the time without a mother, and had spent the last five years living with her aunt who was too busy to pay her much attention because of the long hours she worked.\n",
      "\n",
      "After all, she would be in hibernation for almost the entire trip to Venus.\n",
      "\n",
      "[81, 81, 70, 76, 67, 69, 71, 69, 62, 65, 68, 71]\n"
     ]
    }
   ],
   "source": [
    "f = open(\"data/dataset - fixed.csv\", \"r\", encoding=\"utf-8\")\n",
    "\n",
    "first = True\n",
    "questions_all = []\n",
    "answers_all = []\n",
    "grades_all = []\n",
    "texts_all = []\n",
    "for line in f:\n",
    "    if first:\n",
    "        first = False\n",
    "        continue\n",
    "    s = line.split(\";\")\n",
    "    questions_all.append(s[10])\n",
    "    answers_all.append(s[11])\n",
    "    grades_all.append(s[14])\n",
    "    texts_all.append(s[15])\n",
    "    if s[15] == '1':\n",
    "        print(line)\n",
    "#test_answers = [answers_all[i] for i in range(len(questions_all)) if questions_all[i] == questions[0]]\n",
    "#test_grades = [float(grades_all[i].replace(\",\", \".\")) for i in range(len(questions_all)) if questions_all[i] == questions[0]]\n",
    "\n",
    "## DATA[question_number] -> question data\n",
    "old = questions_all[0]\n",
    "DATA = []\n",
    "data_tmp = []\n",
    "for i in range(len(questions_all)):\n",
    "    if questions_all[i] == old:\n",
    "        triple = (questions_all[i], grades_all[i], texts_all[i])\n",
    "        data_tmp.append(triple)\n",
    "    else:\n",
    "        old = questions_all[i]\n",
    "        DATA.append(data_tmp)\n",
    "        data_tmp = []\n",
    "        data_tmp.append((questions_all[i], grades_all[i], texts_all[i]))\n",
    "DATA.append(data_tmp)\n",
    "        \n",
    "print(len(DATA))\n",
    "for i in DATA:\n",
    "    print(len(i))"
   ]
  },
  {
   "cell_type": "markdown",
   "metadata": {},
   "source": [
    "## TF-IDF"
   ]
  },
  {
   "cell_type": "markdown",
   "metadata": {},
   "source": [
    "## Preparation"
   ]
  },
  {
   "cell_type": "code",
   "execution_count": 4,
   "metadata": {},
   "outputs": [],
   "source": [
    "import requests\n",
    "url = 'http://localhost:9000/?properties={\"annotators\": \"openie,coref\", \"outputFormat\": \"json\", \"openie.resolve_coref\": \"true\"}'\n",
    "data = \"Sarah jumped over the table. She got hurt.\"\n",
    "response = requests.post(url, data=data)"
   ]
  },
  {
   "cell_type": "code",
   "execution_count": 5,
   "metadata": {},
   "outputs": [
    {
     "name": "stdout",
     "output_type": "stream",
     "text": [
      "Subject: Sarah  | Relation: jumped over  | Object: table\n",
      "Subject: Sarah  | Relation: got  | Object: hurt\n"
     ]
    }
   ],
   "source": [
    "for s in response.json()[\"sentences\"]:\n",
    "    for i in s[\"openie\"]:\n",
    "        print(\"Subject:\", i[\"subject\"], \" | Relation:\", i[\"relation\"], \" | Object:\", i[\"object\"])"
   ]
  },
  {
   "cell_type": "code",
   "execution_count": 6,
   "metadata": {},
   "outputs": [],
   "source": [
    "def openie_extract(text, resolve_coref=True):\n",
    "    import requests\n",
    "    if resolve_coref:\n",
    "        url = 'http://localhost:9000/?properties={\"annotators\": \"tokenize,ssplit,pos,lemma,openie,coref\", \"outputFormat\": \"json\", \"openie.resolve_coref\": \"true\", \"openie.triple.strict\": \"true\"}'\n",
    "    else:\n",
    "        url = 'http://localhost:9000/?properties={\"annotators\": \"tokenize,ssplit,pos,lemma,openie,coref\", \"outputFormat\": \"json\", \"openie.resolve_coref\": \"false\", \"openie.triple.strict\": \"true\"}'\n",
    "    data = text\n",
    "    response = requests.post(url, data=data)\n",
    "    response.encoding = \"utf-8\"\n",
    "    triples = []\n",
    "    for s in response.json()[\"sentences\"]:\n",
    "        for i in s[\"openie\"]:\n",
    "            #print(\"Subject:\", i[\"subject\"], \" | Relation:\", i[\"relation\"], \" | Object:\", i[\"object\"])\n",
    "            #triples.append((lemmatize([i[\"subject\"]])[0], lemmatize([i[\"relation\"]])[0], lemmatize([i[\"object\"]])[0]))\n",
    "            triples.append((i[\"subject\"], i[\"relation\"], i[\"object\"]))\n",
    "    return triples"
   ]
  },
  {
   "cell_type": "code",
   "execution_count": 7,
   "metadata": {
    "scrolled": false
   },
   "outputs": [
    {
     "data": {
      "text/plain": [
       "[('Shiranna', 'feels', 'excited'),\n",
       " ('trailer-sized shuttle', 'affects', 'Shiranna heart-rate'),\n",
       " ('trailer-sized shuttle', 'even affects', 'Shiranna heart-rate'),\n",
       " ('shuttle', 'moved on', 'track'),\n",
       " ('Shiranna heart', 'stopped', 'trailer-sized shuttle moved forward'),\n",
       " ('shuttle', 'making', 'sound'),\n",
       " ('Shiranna heart', 'stopped', 'shuttle moved forward on track'),\n",
       " ('Shiranna heart', 'stopped', 'shuttle moved'),\n",
       " ('Shiranna heart', 'stopped', 'trailer-sized shuttle moved on track'),\n",
       " ('trailer-sized shuttle', 'moved forward on', 'track'),\n",
       " ('trailer-sized shuttle', 'making', 'sound'),\n",
       " ('Shiranna heart', 'stopped', 'trailer-sized shuttle moved'),\n",
       " ('trailer-sized shuttle', 'moved on', 'track'),\n",
       " ('Shiranna heart', 'stopped', 'shuttle moved on track'),\n",
       " ('shuttle', 'moved forward on', 'track'),\n",
       " ('Shiranna heart', 'stopped', 'trailer-sized shuttle moved forward on track'),\n",
       " ('Shiranna heart', 'stopped', 'shuttle moved forward'),\n",
       " ('Shiranna', 'took in', 'breath'),\n",
       " ('Shiranna', 'took in', 'deep breath'),\n",
       " ('Shiranna', 'said', 'trying'),\n",
       " ('Shiranna', 'trying', 'brave')]"
      ]
     },
     "execution_count": 7,
     "metadata": {},
     "output_type": "execute_result"
    }
   ],
   "source": [
    "data = answers[0] + \" \" + texts[0]\n",
    "base_triples = openie_extract(data) #+ openie_extract(data, False)\n",
    "base_triples"
   ]
  },
  {
   "cell_type": "code",
   "execution_count": 8,
   "metadata": {},
   "outputs": [],
   "source": [
    "import string\n",
    "import nltk\n",
    "from nltk.stem import WordNetLemmatizer\n",
    "def getTokens(text):\n",
    "    lowered = text.lower()\n",
    "    table = text.maketrans({key: None for key in string.punctuation})\n",
    "    lowered = lowered.translate(table)\n",
    "    return nltk.word_tokenize(lowered)\n",
    "\n",
    "def lemmatize(tokens):\n",
    "    lemmatizer = WordNetLemmatizer()\n",
    "    lemmas = [lemmatizer.lemmatize(token) for token in tokens]\n",
    "    return lemmas\n",
    "\n",
    "def preprocess(text):\n",
    "    tokens = getTokens(text)\n",
    "    lemmatizer = WordNetLemmatizer()\n",
    "    lemmas = [lemmatizer.lemmatize(token) for token in tokens]\n",
    "    return \" \".join(lemmas)\n",
    "    #pos_tag = nltk.pos_tag(lemmas)\n",
    "    #print(pos_tag)\n",
    "    #return \" \".join([pt[0] for pt in pos_tag if pt[1] == \"NN\" or pt[1][0:2] == \"VB\" or pt[1] == \"JJ\"])\n",
    "\n",
    "\n",
    "pre_answer = preprocess(answers[0])\n",
    "pre_text = preprocess(texts[0])\n",
    "#print(lemmas)"
   ]
  },
  {
   "cell_type": "markdown",
   "metadata": {},
   "source": [
    "## Predicting"
   ]
  },
  {
   "cell_type": "code",
   "execution_count": 10,
   "metadata": {},
   "outputs": [
    {
     "name": "stdout",
     "output_type": "stream",
     "text": [
      "Predicted: 0.5  Real: 0.5  ---  5\n",
      "Predicted: 1.0  Real: 1.0  ---  2\n",
      "Predicted: 0.5  Real: 0.0  ---  1\n",
      "1\n",
      "Predicted: 0.5  Real: 0.5  ---  0\n",
      "Predicted: 0.5  Real: 1.0  ---  0\n",
      "0\n",
      "Predicted: 0.5  Real: 0.5  ---  0\n",
      "Predicted: 1.0  Real: 0.5  ---  1\n",
      "1\n",
      "Predicted: 0.5  Real: 0.5  ---  2\n",
      "Predicted: 0.5  Real: 0.5  ---  0\n",
      "Predicted: 0.5  Real: 1.0  ---  0\n",
      "0\n",
      "Predicted: 0.5  Real: 1.0  ---  1\n",
      "1\n",
      "Predicted: 1.0  Real: 0.5  ---  13\n",
      "13\n",
      "Predicted: 0.5  Real: 0.5  ---  0\n",
      "Predicted: 0.5  Real: 0.5  ---  1\n",
      "Predicted: 0.5  Real: 0.5  ---  2\n",
      "Predicted: 1.0  Real: 1.0  ---  3\n",
      "Predicted: 1.0  Real: 1.0  ---  3\n",
      "Predicted: 1.0  Real: 1.0  ---  8\n",
      "Predicted: 0.5  Real: 1.0  ---  0\n",
      "0\n",
      "Predicted: 1.0  Real: 1.0  ---  11\n",
      "Predicted: 0.5  Real: 0.5  ---  2\n",
      "Predicted: 0.5  Real: 0.5  ---  6\n",
      "Predicted: 1.0  Real: 1.0  ---  1\n",
      "Predicted: 1.0  Real: 1.0  ---  1\n",
      "Predicted: 0.0  Real: 0.5  ---  0\n",
      "0\n",
      "Predicted: 0.5  Real: 0.5  ---  2\n",
      "Predicted: 1.0  Real: 0.5  ---  8\n",
      "8\n",
      "Predicted: 0.5  Real: 0.0  ---  0\n",
      "0\n",
      "Predicted: 0.5  Real: 0.5  ---  1\n",
      "Predicted: 0.5  Real: 0.0  ---  0\n",
      "0\n",
      "Predicted: 0.0  Real: 0.5  ---  0\n",
      "0\n",
      "Predicted: 0.0  Real: 0.5  ---  0\n",
      "0\n",
      "Predicted: 1.0  Real: 1.0  ---  1\n",
      "Predicted: 0.5  Real: 1.0  ---  0\n",
      "0\n",
      "Predicted: 1.0  Real: 0.5  ---  2\n",
      "2\n",
      "Predicted: 1.0  Real: 1.0  ---  6\n",
      "Predicted: 1.0  Real: 1.0  ---  9\n",
      "Predicted: 1.0  Real: 0.5  ---  4\n",
      "4\n",
      "Predicted: 1.0  Real: 1.0  ---  4\n",
      "Predicted: 0.5  Real: 1.0  ---  7\n",
      "7\n",
      "Predicted: 1.0  Real: 1.0  ---  2\n",
      "Predicted: 0.0  Real: 0.5  ---  0\n",
      "0\n",
      "Predicted: 1.0  Real: 1.0  ---  4\n",
      "Predicted: 1.0  Real: 1.0  ---  1\n",
      "Predicted: 0.5  Real: 0.5  ---  0\n",
      "Predicted: 1.0  Real: 1.0  ---  2\n",
      "Predicted: 1.0  Real: 0.5  ---  1\n",
      "1\n",
      "Predicted: 1.0  Real: 0.5  ---  2\n",
      "2\n",
      "Predicted: 0.5  Real: 0.5  ---  0\n",
      "Predicted: 0.5  Real: 1.0  ---  0\n",
      "0\n",
      "Predicted: 1.0  Real: 0.5  ---  5\n",
      "5\n",
      "Predicted: 0.5  Real: 0.5  ---  0\n",
      "Predicted: 1.0  Real: 1.0  ---  3\n",
      "Predicted: 1.0  Real: 0.5  ---  1\n",
      "1\n",
      "Predicted: 0.5  Real: 1.0  ---  0\n",
      "0\n",
      "Predicted: 1.0  Real: 0.5  ---  7\n",
      "7\n",
      "Predicted: 0.5  Real: 0.5  ---  2\n",
      "Predicted: 1.0  Real: 1.0  ---  1\n",
      "Predicted: 0.5  Real: 1.0  ---  1\n",
      "1\n",
      "Predicted: 0.5  Real: 0.5  ---  0\n",
      "Predicted: 1.0  Real: 1.0  ---  12\n",
      "Predicted: 0.5  Real: 0.5  ---  1\n",
      "Predicted: 1.0  Real: 0.5  ---  1\n",
      "1\n",
      "Predicted: 0.5  Real: 0.5  ---  1\n",
      "Predicted: 0.5  Real: 1.0  ---  0\n",
      "0\n",
      "Predicted: 0.5  Real: 1.0  ---  0\n",
      "0\n",
      "Predicted: 0.5  Real: 1.0  ---  2\n",
      "2\n",
      "Predicted: 1.0  Real: 1.0  ---  1\n",
      "Predicted: 0.5  Real: 1.0  ---  2\n",
      "2\n",
      "Predicted: 0.0  Real: 0.5  ---  0\n",
      "0\n",
      "Predicted: 0.0  Real: 0.5  ---  0\n",
      "0\n",
      "Predicted: 0.5  Real: 0.5  ---  0\n",
      "Predicted: 1.0  Real: 0.5  ---  1\n",
      "1\n",
      "Predicted: 1.0  Real: 0.5  ---  1\n",
      "1\n",
      "Predicted: 0.0  Real: 0.0  ---  0\n",
      "Predicted: 0.0  Real: 0.5  ---  0\n",
      "0\n",
      "Predicted: 0.5  Real: 1.0  ---  0\n",
      "0\n",
      "Predicted: 1.0  Real: 0.5  ---  1\n",
      "1\n",
      "Predicted: 0.5  Real: 1.0  ---  0\n",
      "0\n",
      "Predicted: 0.5  Real: 1.0  ---  0\n",
      "0\n",
      "Predicted: 0.5  Real: 0.0  ---  0\n",
      "0\n",
      "Correct:  40 / 81\n"
     ]
    }
   ],
   "source": [
    "#weights = vect.transform(test_answers)\n",
    "\n",
    "from sklearn.feature_extraction.text import TfidfVectorizer\n",
    "vect = TfidfVectorizer() # parameters for tokenization, stopwords can be passed\n",
    "tfidf = vect.fit_transform([pre_answer, pre_text])\n",
    "#print(\"Cosine similarity between the documents: \\n{}\".format(cosine))\n",
    "weights = vect.transform([preprocess(ta) for ta in test_answers_tfidf[0]])\n",
    "predict = tfidf * weights.T\n",
    "\n",
    "#Shiranna feels excited and scared as the shuttle is taking off and it even affects her heart-rate and her temperature.\n",
    "#test_answers = [\"Excited, scared. It affected her heart rate and temp\"]\n",
    "\n",
    "correct = 0\n",
    "TP = 0\n",
    "TN = 0\n",
    "FP = 0\n",
    "FN = 0\n",
    "for i in range(len(test_answers)):\n",
    "    test_answer = test_answers[i]\n",
    "    triples = openie_extract(test_answer.encode(\"utf8\"))\n",
    "    \n",
    "    p = 0\n",
    "    p_tfidf = 0\n",
    "    p_triples = 0\n",
    "    \n",
    "    #if len(triples) < 1:\n",
    "    prediction = max(predict[0,i], predict[1,i])\n",
    "    if prediction > 0.35: #0.5\n",
    "        p_tfidf = 1\n",
    "    elif prediction > 0.2: #0.3\n",
    "        p_tfidf = 0.5\n",
    "    else:\n",
    "        p_tfidf = 0\n",
    "    #else:\n",
    "    for bt in base_triples:\n",
    "        for t in triples:\n",
    "            if t[0] == bt[0] or t[1] == bt[1] or t[2] == bt[2]:\n",
    "                p_triples += 0.5\n",
    "    p_triples = p_triples*4 / max(len(triples), 1)\n",
    "    prediction = 0\n",
    "    if p_triples >= 1:\n",
    "        p_triples = 1\n",
    "    elif p_triples >= 0.5:\n",
    "        p_triples = 0.5\n",
    "    else:\n",
    "        p_triples = 0\n",
    "        \n",
    "    p = (p_triples + p_tfidf) / 2\n",
    "    if p > 0 and p < 1 and p != 0.5:\n",
    "        p = 0.5\n",
    "    \n",
    "    print(\"Predicted:\", p, \" Real:\", test_grades[i], \" --- \", len(triples))\n",
    "    \n",
    "    if p == test_grades[i]:\n",
    "        correct += 1\n",
    "        if p == 1 or p == 0.5:\n",
    "            TP += 1\n",
    "        else:\n",
    "            TN += 1\n",
    "    else:\n",
    "        print(len(triples))\n",
    "        if p == 1 or p == 0.5:\n",
    "            FP += 1\n",
    "        else:\n",
    "            FN += 1\n",
    "    \n",
    "print(\"Correct: \", correct, \"/\", len(test_answers))"
   ]
  },
  {
   "cell_type": "markdown",
   "metadata": {},
   "source": [
    "[texts[0] + answers[0]] 0.3 0.2 -> 38/81 correct\n",
    "\n",
    "[texts[0], answers[0]]  0.3 0.2 -> 42/81 correct \n",
    "\n",
    "CoreNLP openie+coref /w TFIDF -> 32/81 correct\n",
    "\n",
    "CoreNLP openie /w TFIDF ->  40/81 correct\n",
    "\n",
    "CoreNLP openie relative scoring /w TFIDF -> 36/81 correct\n",
    "\n",
    "CoreNLP openie+coref relative scoring /w TFIDF -> 33/81 correct\n",
    "\n",
    "CoreNLP (not strict) openie+coref relative scoring AND TFIDF | AVG -> 43/81 correct\n",
    "\n",
    "CoreNLP openie+coref relative scoring AND TFIDF | AVG -> 40/81 correct\n",
    "\n",
    "CoreNLP openie+coref(with and without) relative scoring AND TFIDF | AVG -> 41/81 correct"
   ]
  },
  {
   "cell_type": "markdown",
   "metadata": {},
   "source": [
    "## F1 Scoring"
   ]
  },
  {
   "cell_type": "code",
   "execution_count": null,
   "metadata": {
    "scrolled": true
   },
   "outputs": [],
   "source": [
    "T = TP + TN\n",
    "A = T + FP + FN\n",
    "P = TP/(TP+FP)\n",
    "R = TP/(TP+FN)\n",
    "F1 = 2*P*R/(P+R)\n",
    "print(\"Classification Accuracy: \", T, \"/\", A, \" = \", T/A)\n",
    "print(\"Precision: \", TP, \"/\", TP+FP, \" = \", P)\n",
    "print(\"Recall: \", TP, \"/\", TP+FN, \" = \", TP/(TP+FN))\n",
    "print(\"F1: \", 2*P*R, \"/\", P+R, \" = \", F1)"
   ]
  },
  {
   "cell_type": "raw",
   "metadata": {},
   "source": [
    "** WITHOUT p == 0.5 **\n",
    "Classification Accuracy:  42 / 81  =  0.5185185185185185\n",
    "Precision:  30 / 54  =  0.5555555555555556\n",
    "Recall:  30 / 45  =  0.6666666666666666\n",
    "F1:  0.7407407407407407 / 1.2222222222222223  =  0.606060606060606\n",
    "\n",
    "** WITH p == 0.5 **\n",
    "Classification Accuracy:  42 / 81  =  0.5185185185185185\n",
    "Precision:  41 / 73  =  0.5616438356164384\n",
    "Recall:  41 / 48  =  0.8541666666666666\n",
    "F1:  0.9594748858447488 / 1.415810502283105  =  0.6776859504132232"
   ]
  },
  {
   "cell_type": "code",
   "execution_count": null,
   "metadata": {},
   "outputs": [],
   "source": []
  }
 ],
 "metadata": {
  "kernelspec": {
   "display_name": "Python 3",
   "language": "python",
   "name": "python3"
  },
  "language_info": {
   "codemirror_mode": {
    "name": "ipython",
    "version": 3
   },
   "file_extension": ".py",
   "mimetype": "text/x-python",
   "name": "python",
   "nbconvert_exporter": "python",
   "pygments_lexer": "ipython3",
   "version": "3.6.8"
  }
 },
 "nbformat": 4,
 "nbformat_minor": 2
}
